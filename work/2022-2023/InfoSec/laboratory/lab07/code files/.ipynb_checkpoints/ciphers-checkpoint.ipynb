{
 "cells": [
  {
   "cell_type": "code",
   "execution_count": 1,
   "id": "388483e1",
   "metadata": {},
   "outputs": [],
   "source": [
    "import numpy as np"
   ]
  },
  {
   "cell_type": "code",
   "execution_count": 2,
   "id": "5e8f6947",
   "metadata": {},
   "outputs": [],
   "source": [
    "def check_enc(array):\n",
    "    arr = [i if len(i)==2 else \"0\"+i for i in array]\n",
    "    return arr"
   ]
  },
  {
   "cell_type": "code",
   "execution_count": 3,
   "id": "4990ce0b",
   "metadata": {},
   "outputs": [],
   "source": [
    "def generate_key(n):\n",
    "    k = np.random.randint(0, 255, n)\n",
    "    key = [hex(i)[2:] for i in k]\n",
    "    key = check_enc(key)\n",
    "    return key"
   ]
  },
  {
   "cell_type": "code",
   "execution_count": 4,
   "id": "a225f329",
   "metadata": {},
   "outputs": [],
   "source": [
    "def encode_str(string):\n",
    "    s = []\n",
    "    for i in string:\n",
    "        s.append(i.encode('cp1251').hex())\n",
    "    return s"
   ]
  },
  {
   "cell_type": "code",
   "execution_count": 5,
   "id": "0fdca2b3",
   "metadata": {},
   "outputs": [],
   "source": [
    "def cipher_define(text, key):\n",
    "    t = encode_str(text)\n",
    "    c = []\n",
    "    for i in range(len(t)):\n",
    "        c.append(hex(int(t[i], 16) ^ int(key[i], 16))[2:])\n",
    "    c = check_enc(c)\n",
    "    cipher = bytearray.fromhex(\"\".join(c)).decode('cp1251')\n",
    "    return cipher"
   ]
  },
  {
   "cell_type": "code",
   "execution_count": 6,
   "id": "b1a63aed",
   "metadata": {},
   "outputs": [],
   "source": [
    "def key_define(text, cipher):\n",
    "    t = encode_str(text)\n",
    "    c = encode_str(cipher)\n",
    "    k = []\n",
    "    for i in range(len(t)):\n",
    "        k.append(hex(int(t[i], 16) ^ int(c[i], 16))[2:])\n",
    "    key = check_enc(k)\n",
    "    return key"
   ]
  },
  {
   "cell_type": "code",
   "execution_count": 7,
   "id": "652517e6",
   "metadata": {},
   "outputs": [],
   "source": [
    "initial_str = \"С Новым Годом, друзья!\""
   ]
  },
  {
   "cell_type": "code",
   "execution_count": 10,
   "id": "41a081ab",
   "metadata": {},
   "outputs": [
    {
     "name": "stdout",
     "output_type": "stream",
     "text": [
      "['76', '3a', '37', 'd5', 'ed', 'e7', '09', '5a', 'eb', '81', '35', '9b', '14', 'a2', 'd8', '36', '95', '4e', '61', 'f8', '00', '4d']\n"
     ]
    }
   ],
   "source": [
    "key1 = generate_key(len(initial_str))\n",
    "print(key1)"
   ]
  },
  {
   "cell_type": "code",
   "execution_count": 11,
   "id": "c6baa42e",
   "metadata": {},
   "outputs": [
    {
     "name": "stdout",
     "output_type": "stream",
     "text": [
      "§\u001aъ;\u000f\u001c",
      "еz(oСuшЋшТeЅ†\u0004яl\n"
     ]
    }
   ],
   "source": [
    "cipher1 = cipher_define(initial_str, key1)\n",
    "print(cipher1)"
   ]
  },
  {
   "cell_type": "code",
   "execution_count": 12,
   "id": "4b6c9dfe",
   "metadata": {},
   "outputs": [
    {
     "name": "stdout",
     "output_type": "stream",
     "text": [
      "['76', '3a', '37', 'd5', 'ed', 'e7', '09', '5a', 'eb', '81', '35', '9b', '14', 'a2', 'd8', '36', '95', '4e', '61', 'f8', '00', '4d']\n"
     ]
    }
   ],
   "source": [
    "key2 = key_define(initial_str, cipher1)\n",
    "print(key2)"
   ]
  }
 ],
 "metadata": {
  "kernelspec": {
   "display_name": "Python 3",
   "language": "python",
   "name": "python3"
  },
  "language_info": {
   "codemirror_mode": {
    "name": "ipython",
    "version": 3
   },
   "file_extension": ".py",
   "mimetype": "text/x-python",
   "name": "python",
   "nbconvert_exporter": "python",
   "pygments_lexer": "ipython3",
   "version": "3.8.8"
  }
 },
 "nbformat": 4,
 "nbformat_minor": 5
}
