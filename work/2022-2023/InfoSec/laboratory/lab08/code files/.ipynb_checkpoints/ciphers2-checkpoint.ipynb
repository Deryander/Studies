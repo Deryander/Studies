{
 "cells": [
  {
   "cell_type": "code",
   "execution_count": 2,
   "id": "910ea583",
   "metadata": {},
   "outputs": [],
   "source": [
    "def check_enc(array):\n",
    "    arr = [i if len(i)==2 else \"0\"+i for i in array]\n",
    "    return arr"
   ]
  },
  {
   "cell_type": "code",
   "execution_count": 3,
   "id": "5a082ee0",
   "metadata": {},
   "outputs": [],
   "source": [
    "def encode_str(string):\n",
    "    s = []\n",
    "    for i in string:\n",
    "        s.append(i.encode('cp1251').hex())\n",
    "    return s"
   ]
  },
  {
   "cell_type": "code",
   "execution_count": 8,
   "id": "8505203b",
   "metadata": {},
   "outputs": [],
   "source": [
    "def ciphers_define(text1, text2, key):\n",
    "    t1 = encode_str(text1)\n",
    "    t2 = encode_str(text2)\n",
    "    c1 = []\n",
    "    c2 = []\n",
    "    for i in range(len(t1)):\n",
    "        c1.append(hex(int(t1[i], 16) ^ int(key[i], 16))[2:])\n",
    "        c2.append(hex(int(t2[i], 16) ^ int(key[i], 16))[2:])\n",
    "    c1 = check_enc(c1)\n",
    "    c2 = check_enc(c2)\n",
    "    cipher1 = bytearray.fromhex(\"\".join(c1)).decode('cp1251')\n",
    "    cipher2 = bytearray.fromhex(\"\".join(c2)).decode('cp1251')\n",
    "    return cipher1, cipher2"
   ]
  },
  {
   "cell_type": "code",
   "execution_count": 5,
   "id": "7cbcf8b7",
   "metadata": {},
   "outputs": [],
   "source": [
    "p1 = \"НаВашисходящийот1204\"\n",
    "p2 = \"ВСеверныйфилиалБанка\"\n",
    "key = ['05', '0C', '17', '7F', '0E', '4E', '37', 'D2', '94', '10', \n",
    "       '09', '2E', '22', '57', 'FF', 'C8', '0B', 'B2', '70', '54']"
   ]
  },
  {
   "cell_type": "code",
   "execution_count": 10,
   "id": "0e0780e7",
   "metadata": {},
   "outputs": [
    {
     "name": "stdout",
     "output_type": "stream",
     "text": [
      "ИмХџц¦Ж'zфцЧКѕ\u0011::Ђ@`\n",
      "ЗЭтќлѕЪ)}дбЕК·\u0014\tл_љґ\n"
     ]
    }
   ],
   "source": [
    "c1, c2 = ciphers_define(p1, p2, key)\n",
    "print(c1)\n",
    "print(c2)"
   ]
  },
  {
   "cell_type": "code",
   "execution_count": 19,
   "id": "c5bef106",
   "metadata": {},
   "outputs": [],
   "source": [
    "def mod23(s1, s2, s3):\n",
    "    res = []\n",
    "    for i in range(len(s1)):\n",
    "        res.append(hex(int(s1[i], 16) ^ int(s2[i], 16) ^ int(s3[i], 16))[2:])\n",
    "    return res"
   ]
  },
  {
   "cell_type": "code",
   "execution_count": 22,
   "id": "2bde6272",
   "metadata": {},
   "outputs": [],
   "source": [
    "def text_define(cipher1, cipher2, text1, n):\n",
    "    s1 = encode_str(cipher1)\n",
    "    s2 = encode_str(cipher2)\n",
    "    s3 = encode_str(text1)\n",
    "    for i in range(n):\n",
    "        txt = mod23(s1, s2, s3)\n",
    "        txt = check_enc(txt)\n",
    "        s1 = s3\n",
    "        s2 = txt\n",
    "    text2 = bytearray.fromhex(\"\".join(txt)).decode('cp1251')\n",
    "    return text2"
   ]
  },
  {
   "cell_type": "code",
   "execution_count": 25,
   "id": "1a640213",
   "metadata": {},
   "outputs": [
    {
     "name": "stdout",
     "output_type": "stream",
     "text": [
      "ВСеверныйфилиалБанка\n"
     ]
    }
   ],
   "source": [
    "text = text_define(c1, c2, p1, 1)\n",
    "print(text)"
   ]
  }
 ],
 "metadata": {
  "kernelspec": {
   "display_name": "Python 3",
   "language": "python",
   "name": "python3"
  },
  "language_info": {
   "codemirror_mode": {
    "name": "ipython",
    "version": 3
   },
   "file_extension": ".py",
   "mimetype": "text/x-python",
   "name": "python",
   "nbconvert_exporter": "python",
   "pygments_lexer": "ipython3",
   "version": "3.8.8"
  }
 },
 "nbformat": 4,
 "nbformat_minor": 5
}
